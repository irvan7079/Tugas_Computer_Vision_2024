{
 "cells": [
  {
   "cell_type": "code",
   "execution_count": 1,
   "metadata": {},
   "outputs": [],
   "source": [
    "import tensorflow as tf\n",
    "import matplotlib.pyplot as plt"
   ]
  },
  {
   "cell_type": "markdown",
   "metadata": {},
   "source": [
    "# ImageDataGenerator"
   ]
  },
  {
   "cell_type": "code",
   "execution_count": 2,
   "metadata": {},
   "outputs": [],
   "source": [
    "from tensorflow.keras.preprocessing.image import ImageDataGenerator"
   ]
  },
  {
   "cell_type": "code",
   "execution_count": 3,
   "metadata": {},
   "outputs": [],
   "source": [
    "# Membuat objek ImageDataGenerator dengan beberapa konfigurasi augmentasi\n",
    "datagen = ImageDataGenerator(\n",
    "    rescale=1./255,\n",
    "    rotation_range=0.45,\n",
    "    horizontal_flip=True,\n",
    "    zoom_range=0.2,\n",
    "    shear_range=0.2,\n",
    "    fill_mode='nearest'\n",
    ")"
   ]
  },
  {
   "cell_type": "code",
   "execution_count": 4,
   "metadata": {},
   "outputs": [],
   "source": [
    "import matplotlib.image as mpig\n",
    "import os"
   ]
  },
  {
   "cell_type": "code",
   "execution_count": 5,
   "metadata": {},
   "outputs": [],
   "source": [
    "IMG_PATH = 'buah'\n",
    "img_datagen = ImageDataGenerator(\n",
    "rescale=1./255,\n",
    "rotation_range=0.45,\n",
    "width_shift_range=0.2,\n",
    "height_shift_range=0.2,\n",
    "shear_range=0.2,\n",
    "zoom_range=0.2,\n",
    "horizontal_flip=True,\n",
    "fill_mode='nearest'\n",
    ")"
   ]
  },
  {
   "cell_type": "code",
   "execution_count": 6,
   "metadata": {},
   "outputs": [
    {
     "name": "stdout",
     "output_type": "stream",
     "text": [
      "Found 302 images belonging to 3 classes.\n"
     ]
    }
   ],
   "source": [
    "img_generator = img_datagen.flow_from_directory(\n",
    "    IMG_PATH,\n",
    "    target_size=(150,150),\n",
    "    batch_size=32,\n",
    "    shuffle=True,\n",
    "\n",
    "    # Parameter untuk menyimpan data (Pastikan folder 'augmented' telah dibuat)\n",
    "    class_mode='categorical',\n",
    "    save_to_dir='augmented',\n",
    "    save_prefix='aug',\n",
    "    save_format='jpg'\n",
    ")\n",
    "for i in range(5):\n",
    "    img_generator.next()\n"
   ]
  },
  {
   "cell_type": "code",
   "execution_count": 7,
   "metadata": {},
   "outputs": [
    {
     "name": "stdout",
     "output_type": "stream",
     "text": [
      "Found 242 images belonging to 3 classes.\n"
     ]
    },
    {
     "name": "stdout",
     "output_type": "stream",
     "text": [
      "Found 60 images belonging to 3 classes.\n"
     ]
    }
   ],
   "source": [
    "img_datagen = ImageDataGenerator(\n",
    "    rescale=1./255,\n",
    "    validation_split=0.2,\n",
    ")\n",
    "\n",
    "train_generator = img_datagen.flow_from_directory(\n",
    "    IMG_PATH,\n",
    "    target_size=(150,150),\n",
    "    batch_size=32,\n",
    "    shuffle=True,\n",
    "    class_mode='categorical',\n",
    "    subset='training'\n",
    ")\n",
    "validation_generator = img_datagen.flow_from_directory(\n",
    "    IMG_PATH,\n",
    "    target_size=(150,150),\n",
    "    batch_size=32,\n",
    "    shuffle=True,\n",
    "    class_mode='categorical',\n",
    "    subset='validation'\n",
    ")"
   ]
  },
  {
   "cell_type": "markdown",
   "metadata": {},
   "source": []
  },
  {
   "cell_type": "code",
   "execution_count": 8,
   "metadata": {},
   "outputs": [],
   "source": [
    "model = tf.keras.Sequential([\n",
    "    tf.keras.layers.Conv2D(256, (3,3), activation='relu', # 256 = Ini terserah aja mau berapa, tapi saran bang gial itu mulai dari yang terkecil baru ke terbesar dan juga pakai kelipatan (4, 16, 32, 64, 128, 256)\n",
    "    input_shape=[150,150,3]),\n",
    "    tf.keras.layers.MaxPooling2D(2,2),\n",
    "    tf.keras.layers.Conv2D(128, (3,3), activation='relu'),\n",
    "    tf.keras.layers.MaxPooling2D(2,2),\n",
    "    tf.keras.layers.Conv2D(64, (3,3), activation='relu'),\n",
    "    tf.keras.layers.MaxPooling2D(2,2),\n",
    "    tf.keras.layers.Flatten(),\n",
    "    tf.keras.layers.Dropout(0.2),\n",
    "    tf.keras.layers.Dense(128, activation='relu'),\n",
    "    tf.keras.layers.Dense(3, activation='softmax')\n",
    "])"
   ]
  },
  {
   "cell_type": "code",
   "execution_count": 9,
   "metadata": {},
   "outputs": [],
   "source": [
    "model.compile(optimizer='adam', loss='categorical_crossentropy', metrics=['accuracy'])"
   ]
  },
  {
   "cell_type": "code",
   "execution_count": 10,
   "metadata": {},
   "outputs": [
    {
     "name": "stdout",
     "output_type": "stream",
     "text": [
      "Epoch 1/10\n",
      "8/8 [==============================] - 14s 2s/step - loss: 1.1244 - accuracy: 0.4463 - val_loss: 1.1432 - val_accuracy: 0.3333\n",
      "Epoch 2/10\n",
      "8/8 [==============================] - 12s 1s/step - loss: 0.9069 - accuracy: 0.5372 - val_loss: 0.8068 - val_accuracy: 0.7500\n",
      "Epoch 3/10\n",
      "8/8 [==============================] - 12s 1s/step - loss: 0.6251 - accuracy: 0.7562 - val_loss: 0.4679 - val_accuracy: 0.8500\n",
      "Epoch 4/10\n",
      "8/8 [==============================] - 12s 1s/step - loss: 0.3869 - accuracy: 0.8512 - val_loss: 0.3846 - val_accuracy: 0.8667\n",
      "Epoch 5/10\n",
      "8/8 [==============================] - 12s 1s/step - loss: 0.3138 - accuracy: 0.8967 - val_loss: 0.3847 - val_accuracy: 0.8333\n",
      "Epoch 6/10\n",
      "8/8 [==============================] - 12s 2s/step - loss: 0.2717 - accuracy: 0.9256 - val_loss: 0.4292 - val_accuracy: 0.8333\n",
      "Epoch 7/10\n",
      "8/8 [==============================] - 12s 1s/step - loss: 0.2523 - accuracy: 0.9091 - val_loss: 0.5318 - val_accuracy: 0.8667\n",
      "Epoch 8/10\n",
      "8/8 [==============================] - 11s 1s/step - loss: 0.2206 - accuracy: 0.9215 - val_loss: 0.3648 - val_accuracy: 0.8833\n",
      "Epoch 9/10\n",
      "8/8 [==============================] - 11s 1s/step - loss: 0.2109 - accuracy: 0.8967 - val_loss: 0.5654 - val_accuracy: 0.8500\n",
      "Epoch 10/10\n",
      "8/8 [==============================] - 11s 1s/step - loss: 0.1777 - accuracy: 0.9215 - val_loss: 0.4739 - val_accuracy: 0.8333\n"
     ]
    }
   ],
   "source": [
    "hasil = model.fit(train_generator,validation_data=validation_generator, epochs=10)"
   ]
  },
  {
   "cell_type": "markdown",
   "metadata": {},
   "source": [
    "# Accuracy\n"
   ]
  },
  {
   "cell_type": "code",
   "execution_count": 11,
   "metadata": {},
   "outputs": [
    {
     "data": {
      "image/png": "[encoded data removed]",
      "text/plain": [
       "<Figure size 640x480 with 1 Axes>"
      ]
     },
     "metadata": {},
     "output_type": "display_data"
    }
   ],
   "source": [
    "fig = plt.figure()\n",
    "plt.plot(hasil.history['loss'], color='teal', label='loss')\n",
    "plt.plot(hasil.history['val_loss'], color='orange', label='val_loss')\n",
    "fig.suptitle('Loss', fontsize=20)\n",
    "plt.legend(loc=\"upper left\")\n",
    "plt.show()"
   ]
  },
  {
   "cell_type": "code",
   "execution_count": 12,
   "metadata": {},
   "outputs": [
    {
     "data": {
      "image/png": "[encoded data removed]",
      "text/plain": [
       "<Figure size 640x480 with 1 Axes>"
      ]
     },
     "metadata": {},
     "output_type": "display_data"
    }
   ],
   "source": [
    "fig = plt.figure()\n",
    "plt.plot(hasil.history['accuracy'], color='teal', label='accuracy')\n",
    "plt.plot(hasil.history['val_accuracy'], color='orange', label='val_accuracy')\n",
    "fig.suptitle('Accuracy', fontsize=20)\n",
    "plt.legend(loc=\"upper left\")\n",
    "plt.show()"
   ]
  },
  {
   "cell_type": "code",
   "execution_count": 13,
   "metadata": {},
   "outputs": [
    {
     "name": "stderr",
     "output_type": "stream",
     "text": [
      "c:\\Users\\Acer\\AppData\\Local\\Programs\\Python\\Python310\\lib\\site-packages\\keras\\src\\engine\\training.py:3079: UserWarning: You are saving your model as an HDF5 file via `model.save()`. This file format is considered legacy. We recommend using instead the native Keras format, e.g. `model.save('my_model.keras')`.\n",
      "  saving_api.save_model(\n"
     ]
    }
   ],
   "source": [
    "# save the model\n",
    "model_json = model.to_json()\n",
    "with open(\"model-bw.json\", \"w\") as json_file:\n",
    "    json_file.write(model_json)\n",
    "model.save('model-bw.h5')"
   ]
  },
  {
   "cell_type": "code",
   "execution_count": 14,
   "metadata": {},
   "outputs": [],
   "source": [
    "class_indices = train_generator.class_indices\n",
    "class_names = sorted(class_indices, key=class_indices.get)"
   ]
  },
  {
   "cell_type": "code",
   "execution_count": 15,
   "metadata": {},
   "outputs": [
    {
     "data": {
      "text/plain": [
       "['Alpukat', 'Apel', 'Pisang']"
      ]
     },
     "execution_count": 15,
     "metadata": {},
     "output_type": "execute_result"
    }
   ],
   "source": [
    "class_names"
   ]
  },
  {
   "cell_type": "code",
   "execution_count": 16,
   "metadata": {},
   "outputs": [
    {
     "data": {
      "text/plain": [
       "['Alpukat', 'Apel', 'Pisang']"
      ]
     },
     "execution_count": 16,
     "metadata": {},
     "output_type": "execute_result"
    }
   ],
   "source": [
    "os.listdir('buah')"
   ]
  },
  {
   "cell_type": "code",
   "execution_count": 17,
   "metadata": {},
   "outputs": [
    {
     "name": "stdout",
     "output_type": "stream",
     "text": [
      "1/1 [==============================] - 0s 106ms/step\n",
      "Predicted class: Pisang\n"
     ]
    }
   ],
   "source": [
    "import tensorflow as tf\n",
    "from PIL import Image\n",
    "\n",
    "# Load the image\n",
    "image_path = 'buah/Pisang/Pisang_1.png'  # path gambar yang diprediksi\n",
    "image = Image.open(image_path)\n",
    "image = image.resize((150, 150))  # Sesuaikan ukuran gambar dengan model yang digunakan\n",
    "\n",
    "# Convert image to RGB\n",
    "image = image.convert('RGB')\n",
    "\n",
    "# Preprocess the image\n",
    "image = tf.keras.preprocessing.image.img_to_array(image)\n",
    "image = tf.keras.applications.inception_v3.preprocess_input(image)  # Gunakan preprocess_input dari InceptionV3\n",
    "image = tf.expand_dims(image, axis=0)\n",
    "\n",
    "# Load the model\n",
    "\n",
    "tf.keras.models.load_model('model-bw.h5')  # path model yang mau dipakai\n",
    "\n",
    "# predictions\n",
    "predictions = model.predict(image)\n",
    "predicted_class = tf.argmax(predictions, axis=1)[0].numpy()\n",
    "\n",
    "# class labels\n",
    "class_labels = class_names\n",
    "\n",
    "# Print predicted class\n",
    "predicted_label = class_labels[predicted_class]\n",
    "print('Predicted class:', predicted_label)"
   ]
  }
 ],
 "metadata": {
  "kernelspec": {
   "display_name": "Python 3",
   "language": "python",
   "name": "python3"
  },
  "language_info": {
   "codemirror_mode": {
    "name": "ipython",
    "version": 3
   },
   "file_extension": ".py",
   "mimetype": "text/x-python",
   "name": "python",
   "nbconvert_exporter": "python",
   "pygments_lexer": "ipython3",
   "version": "3.10.7"
  }
 },
 "nbformat": 4,
 "nbformat_minor": 2
}
